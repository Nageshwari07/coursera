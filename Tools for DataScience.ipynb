{
 "cells": [
  {
   "cell_type": "markdown",
   "id": "22e77d8a",
   "metadata": {},
   "source": [
    "# Tools for DataScience\n"
   ]
  },
  {
   "cell_type": "markdown",
   "id": "9478e3eb",
   "metadata": {},
   "source": [
    "Data science is one of the broadest fields available for individuals with a mathematical or statistical background. There are plenty of open positions that require data science skills."
   ]
  },
  {
   "cell_type": "markdown",
   "id": "79664ba4",
   "metadata": {},
   "source": [
    "# DataScience Languages\n"
   ]
  },
  {
   "cell_type": "markdown",
   "id": "b45ba822",
   "metadata": {},
   "source": [
    "1. Python,\n",
    "2. R,\n",
    "3. SQL (Structured Query Language),\n",
    "4. Julia,\n",
    "5. Scala,\n",
    "6. Java,\n",
    "7. MATLAB\n"
   ]
  },
  {
   "cell_type": "markdown",
   "id": "1568b1ff",
   "metadata": {},
   "source": [
    "# Datascience Libraries"
   ]
  },
  {
   "cell_type": "markdown",
   "id": "596b927a",
   "metadata": {},
   "source": [
    "1. Tensorflow\n",
    "2. Numpy\n",
    "3. Scipy\n",
    "4. Pandas\n",
    "5. Matplotlib\n",
    "6. keras\n",
    "7. Scikit Learn\n",
    "8. Pytorch"
   ]
  },
  {
   "cell_type": "code",
   "execution_count": 9,
   "id": "52adc604",
   "metadata": {},
   "outputs": [],
   "source": [
    "import pandas as pd\n",
    "import numpy as np"
   ]
  },
  {
   "cell_type": "code",
   "execution_count": 7,
   "id": "2cc9753a",
   "metadata": {},
   "outputs": [],
   "source": [
    "df = pd.DataFrame()"
   ]
  },
  {
   "cell_type": "code",
   "execution_count": null,
   "id": "5581292a",
   "metadata": {},
   "outputs": [],
   "source": [
    "[\"SAS\",\"Hadoop\",\"TensorFlow\"]"
   ]
  },
  {
   "cell_type": "code",
   "execution_count": 11,
   "id": "edcf2809",
   "metadata": {},
   "outputs": [],
   "source": [
    "datasci=np.array([\"SAS\",\"Hadoop\",\"TensorFlow\"])"
   ]
  },
  {
   "cell_type": "code",
   "execution_count": 12,
   "id": "d27b6739",
   "metadata": {},
   "outputs": [],
   "source": [
    "df=pd.DataFrame({\"Tools for datascience\":datasci})"
   ]
  },
  {
   "cell_type": "code",
   "execution_count": 13,
   "id": "f11a3fc5",
   "metadata": {},
   "outputs": [
    {
     "data": {
      "text/html": [
       "<div>\n",
       "<style scoped>\n",
       "    .dataframe tbody tr th:only-of-type {\n",
       "        vertical-align: middle;\n",
       "    }\n",
       "\n",
       "    .dataframe tbody tr th {\n",
       "        vertical-align: top;\n",
       "    }\n",
       "\n",
       "    .dataframe thead th {\n",
       "        text-align: right;\n",
       "    }\n",
       "</style>\n",
       "<table border=\"1\" class=\"dataframe\">\n",
       "  <thead>\n",
       "    <tr style=\"text-align: right;\">\n",
       "      <th></th>\n",
       "      <th>Tools for datascience</th>\n",
       "    </tr>\n",
       "  </thead>\n",
       "  <tbody>\n",
       "    <tr>\n",
       "      <th>0</th>\n",
       "      <td>SAS</td>\n",
       "    </tr>\n",
       "    <tr>\n",
       "      <th>1</th>\n",
       "      <td>Hadoop</td>\n",
       "    </tr>\n",
       "    <tr>\n",
       "      <th>2</th>\n",
       "      <td>TensorFlow</td>\n",
       "    </tr>\n",
       "  </tbody>\n",
       "</table>\n",
       "</div>"
      ],
      "text/plain": [
       "  Tools for datascience\n",
       "0                   SAS\n",
       "1                Hadoop\n",
       "2            TensorFlow"
      ]
     },
     "execution_count": 13,
     "metadata": {},
     "output_type": "execute_result"
    }
   ],
   "source": [
    "df"
   ]
  },
  {
   "cell_type": "markdown",
   "id": "1d8b3f87",
   "metadata": {},
   "source": [
    "Below are the few examples of evaluating arthemetic expressions in python"
   ]
  },
  {
   "cell_type": "code",
   "execution_count": 2,
   "id": "c48ae4fb",
   "metadata": {},
   "outputs": [
    {
     "data": {
      "text/plain": [
       "24"
      ]
     },
     "execution_count": 2,
     "metadata": {},
     "output_type": "execute_result"
    }
   ],
   "source": [
    "#this is an example of how we are going to do arthemetic operations\n",
    "3*4 + 12"
   ]
  },
  {
   "cell_type": "code",
   "execution_count": 3,
   "id": "c1186e7a",
   "metadata": {},
   "outputs": [
    {
     "data": {
      "text/plain": [
       "3.3333333333333335"
      ]
     },
     "execution_count": 3,
     "metadata": {},
     "output_type": "execute_result"
    }
   ],
   "source": [
    "#converting minutes to hours\n",
    "200/60"
   ]
  },
  {
   "cell_type": "markdown",
   "id": "083d8f4f",
   "metadata": {},
   "source": [
    "# Objectives"
   ]
  },
  {
   "cell_type": "markdown",
   "id": "bd45f9d7",
   "metadata": {},
   "source": [
    "<ul>\n",
    "   <li>List popular langauges of Data Science\n",
    "   <li>list popular libraries of Data Science\n",
    "   <li>List of well known  language of Data science\n",
    " </ul>"
   ]
  },
  {
   "cell_type": "markdown",
   "id": "8dba8871",
   "metadata": {},
   "source": [
    "# Author"
   ]
  },
  {
   "cell_type": "markdown",
   "id": "4d599d7d",
   "metadata": {},
   "source": [
    "vishnu"
   ]
  },
  {
   "cell_type": "raw",
   "id": "14543618",
   "metadata": {},
   "source": [
    "1.vishnu\n",
    "2.nayak"
   ]
  },
  {
   "cell_type": "code",
   "execution_count": null,
   "id": "e90e6122",
   "metadata": {},
   "outputs": [],
   "source": []
  }
 ],
 "metadata": {
  "kernelspec": {
   "display_name": "Python 3 (ipykernel)",
   "language": "python",
   "name": "python3"
  },
  "language_info": {
   "codemirror_mode": {
    "name": "ipython",
    "version": 3
   },
   "file_extension": ".py",
   "mimetype": "text/x-python",
   "name": "python",
   "nbconvert_exporter": "python",
   "pygments_lexer": "ipython3",
   "version": "3.11.4"
  }
 },
 "nbformat": 4,
 "nbformat_minor": 5
}
